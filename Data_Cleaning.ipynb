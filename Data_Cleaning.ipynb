{
 "cells": [
  {
   "cell_type": "code",
   "execution_count": 16,
   "id": "a2650275",
   "metadata": {},
   "outputs": [],
   "source": [
    "#Import Libraries\n",
    "import pandas as pd\n",
    "import numpy as np\n",
    "import re,string\n",
    "import datetime"
   ]
  },
  {
   "cell_type": "code",
   "execution_count": 17,
   "id": "45022d17",
   "metadata": {},
   "outputs": [],
   "source": [
    "df = pd.read_csv(\"Pregametweets_raw.csv\")"
   ]
  },
  {
   "cell_type": "code",
   "execution_count": 18,
   "id": "e612d2f5",
   "metadata": {},
   "outputs": [],
   "source": [
    "#drop nonsense row\n",
    "df.drop(df.index[df['user'] == 'user'][0], axis=0, inplace=True)"
   ]
  },
  {
   "cell_type": "code",
   "execution_count": 19,
   "id": "d347c92a",
   "metadata": {},
   "outputs": [],
   "source": [
    "#rename columns\n",
    "df= df.rename(columns={'text': 'original_text'})"
   ]
  },
  {
   "cell_type": "code",
   "execution_count": 5,
   "id": "e658a3b2",
   "metadata": {},
   "outputs": [],
   "source": [
    "#Clean up dates\n",
    "df['date'][0:327]= 'Jan 14' \n",
    "df['date'] = pd.to_datetime(df['date'], format='%b %d')\n",
    "df['date'] = df['date'].dt.strftime(\"%m/%d\")"
   ]
  },
  {
   "cell_type": "code",
   "execution_count": 20,
   "id": "a47e9c21",
   "metadata": {},
   "outputs": [],
   "source": [
    "#drop null values\n",
    "df = df.dropna()"
   ]
  },
  {
   "cell_type": "code",
   "execution_count": 21,
   "id": "e08cd2c9",
   "metadata": {},
   "outputs": [],
   "source": [
    "#cleanup user names\n",
    "df['user'] = df.user.str.replace('@','')"
   ]
  },
  {
   "cell_type": "code",
   "execution_count": 22,
   "id": "4d75ec13",
   "metadata": {},
   "outputs": [
    {
     "data": {
      "text/plain": [
       "287"
      ]
     },
     "execution_count": 22,
     "metadata": {},
     "output_type": "execute_result"
    }
   ],
   "source": [
    "#Count duplicated\n",
    "df['original_text'].duplicated().sum()"
   ]
  },
  {
   "cell_type": "code",
   "execution_count": 23,
   "id": "d58715a8",
   "metadata": {},
   "outputs": [],
   "source": [
    "df.drop_duplicates(subset= \"original_text\",keep=\"first\", inplace=True)"
   ]
  },
  {
   "cell_type": "code",
   "execution_count": 24,
   "id": "96a71f05",
   "metadata": {},
   "outputs": [],
   "source": [
    "def extract_hashtags(text):\n",
    "    hashtags= set(part[1:] for part in text.split() if part.startswith('#'))\n",
    "    hashtags = ' '.join(hashtags)\n",
    "    return hashtags\n",
    "\n",
    "df['hashtags'] = df['original_text'].apply(lambda x: extract_hashtags(x)) "
   ]
  },
  {
   "cell_type": "code",
   "execution_count": 25,
   "id": "032321a9",
   "metadata": {},
   "outputs": [],
   "source": [
    "#Minimal text cleaner for (later) sentiment analysis\n",
    "def min_cleaner(text):\n",
    "        \n",
    "    #remove links \n",
    "    text = re.sub('((https?):((//)|(\\\\\\\\))+([\\w\\d:#@%/;$()~_?\\+-=\\\\\\.&](#!)?)*)', \"\", text)\n",
    "    \n",
    "    #remove words with brackets\n",
    "    text = re.sub('\\[.*?\\]',\"\", text)\n",
    "    \n",
    "    #remove hashtags\n",
    "    text = re.sub(\"#[A-Za-z0-9_]+\",\"\", text)\n",
    "\n",
    "    #remove any extra spaces at beginning or end\n",
    "    text= text.strip() \n",
    "    return text\n",
    "\n",
    "df['sentiment_text'] = df['original_text'].apply(lambda x: min_cleaner(x)) "
   ]
  },
  {
   "cell_type": "code",
   "execution_count": 12,
   "id": "5edd03fb",
   "metadata": {},
   "outputs": [],
   "source": [
    "#Deep text cleaner to create a column for (later) topic modeling\n",
    "\n",
    "def deep_cleaner(text):\n",
    "    \n",
    "    #make lower case\n",
    "    text= text.lower()\n",
    "    \n",
    "     #remove links \n",
    "    text = re.sub('((https?):((//)|(\\\\\\\\))+([\\w\\d:#@%/;$()~_?\\+-=\\\\\\.&](#!)?)*)', \"\", text)\n",
    "        \n",
    "    #remove hashtags\n",
    "    text = re.sub(\"#[A-Za-z0-9_]+\",\"\", text)\n",
    "    \n",
    "    #remove other punctuation\n",
    "    text = re.sub('[%s]' % re.escape(string.punctuation), '', text)\n",
    "    \n",
    "    #remove words with numbers\n",
    "    text = re.sub('\\w*\\d\\w*', '', text)\n",
    "    \n",
    "    #remove words with brackets\n",
    "    text = re.sub('\\[.*?\\]', '', text)\n",
    "    \n",
    "    #remove any extra spaces at beginning or end\n",
    "    text= text.strip()\n",
    "    \n",
    "    return text\n",
    "\n",
    "df['topic_text'] = df['original_text'].apply(lambda x: deep_cleaner(x))"
   ]
  },
  {
   "cell_type": "code",
   "execution_count": 26,
   "id": "87342d30",
   "metadata": {},
   "outputs": [],
   "source": [
    "clean_Bendf = df\n",
    "clean_Bendf.to_pickle(\"clean_Pregametweets.pkl\")"
   ]
  },
  {
   "cell_type": "code",
   "execution_count": null,
   "id": "955ce0f0",
   "metadata": {},
   "outputs": [],
   "source": []
  }
 ],
 "metadata": {
  "kernelspec": {
   "display_name": "Python 3 (ipykernel)",
   "language": "python",
   "name": "python3"
  },
  "language_info": {
   "codemirror_mode": {
    "name": "ipython",
    "version": 3
   },
   "file_extension": ".py",
   "mimetype": "text/x-python",
   "name": "python",
   "nbconvert_exporter": "python",
   "pygments_lexer": "ipython3",
   "version": "3.9.7"
  }
 },
 "nbformat": 4,
 "nbformat_minor": 5
}
