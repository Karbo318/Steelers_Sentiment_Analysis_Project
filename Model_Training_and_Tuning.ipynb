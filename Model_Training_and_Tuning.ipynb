{
 "cells": [
  {
   "cell_type": "markdown",
   "id": "531a94b4",
   "metadata": {},
   "source": [
    "## Introduction:\n",
    "In this notebook I train and tune a logistic regression model, which I will later use to label the sentiment of the Steelers tweets I scraped. In pretrials logistic regression outperformed several pretained models from the nltk library (e.g. TextBlob, VADER), multinomial naive bayes, the linear support vector classifier, and the random forest classifier in terms of overall performance (accuracy, precision, and f1 score). The data I scraped from twitter data is unlabeled. So, to train, evaluate, and tune the model I use a previously labeled data set of tweets from kaggle (https://www.kaggle.com/kazanova/sentiment140/version/2), supplmented with some manually labelled Steelers tweets (so the algorithm can gain some familiarity with football tweets). The dataset from kaggle is fairly clean and comtains binary sentiment labels (0= negative, 4=positive) of over a million tweets. I apply various preprocessing steps and use a balanced proportion of positive and negative tweets to train the model. However, because the sample of Steelers tweets that I used to supplement the data from tweitter was unbalanced in a 3:2 ratio (3 negative to 2 positive) I use an unbalanced validation and test set to tune and ultimately evaluate the model. In general, I strived to balance the model's accuracy, precision, and recall across both the majority (negative) and minority (positive) classes. My model achieved a .78 accuracy score, .81 and .73 precision scores on the positive and negative classes (respectively), and a macro f1 score of .77.    "
   ]
  },
  {
   "cell_type": "code",
   "execution_count": 1,
   "id": "fee5b3fe",
   "metadata": {},
   "outputs": [],
   "source": [
    "import numpy as np\n",
    "import pandas as pd\n",
    "import matplotlib.pyplot as plt\n",
    "import re\n",
    "import spacy\n",
    "import nltk\n",
    "import pickle\n",
    "from nltk.tokenize import word_tokenize\n",
    "from sklearn.model_selection import train_test_split, GridSearchCV\n",
    "from nltk.stem.snowball import SnowballStemmer\n",
    "from spacy.lang.en.stop_words import STOP_WORDS as en_stop\n",
    "from sklearn.feature_extraction.text import TfidfVectorizer\n",
    "from sklearn.linear_model import LogisticRegression\n",
    "from sklearn.metrics import classification_report, ConfusionMatrixDisplay, confusion_matrix, accuracy_score, f1_score"
   ]
  },
  {
   "cell_type": "markdown",
   "id": "e1bdb45f",
   "metadata": {},
   "source": [
    "## 1. Download and Preprocess Training, Validation, and Test Data"
   ]
  },
  {
   "cell_type": "code",
   "execution_count": 2,
   "id": "a1aeddbd",
   "metadata": {},
   "outputs": [],
   "source": [
    "#Read in data\n",
    "df=pd.read_csv('twitsentdata.csv')\n",
    "#Rename columns\n",
    "df = df.rename(columns={'0': 'sentiment', \"@switchfoot http://twitpic.com/2y1zl - Awww, that's a bummer.  You shoulda got David Carr of Third Day to do it. ;D\": \"text\"})\n",
    "#Change labels\n",
    "df['sentiment'] = df.sentiment.apply(lambda x : 1 if x == 4 else 0)\n",
    "#Select relevant columns\n",
    "df = df.loc[:,['sentiment', 'text']]\n",
    "#Drop duplicates\n",
    "df.drop_duplicates(inplace=True)"
   ]
  },
  {
   "cell_type": "code",
   "execution_count": 3,
   "id": "0f26cd46",
   "metadata": {},
   "outputs": [],
   "source": [
    "#Define a modified text cleaner that additionally stems the tweets and removes stop words\n",
    "def text_cleaner(text):\n",
    "       \n",
    "    #remove links \n",
    "    text = re.sub('((https?):((//)|(\\\\\\\\))+([\\w\\d:#@%/;$()~_?\\+-=\\\\\\.&](#!)?)*)', \"\", text)\n",
    "    \n",
    "    #remove words with brackets\n",
    "    text = re.sub('\\[.*?\\]',\"\", text)\n",
    "    \n",
    "    #remove numbers\n",
    "    text = ''.join([i for i in text if not i.isdigit()])\n",
    "    \n",
    "    #remove hashtags and personal tags\n",
    "    text = re.sub(\"(#|@)[A-Za-z0-9_]+\",\"\", text)\n",
    "\n",
    "    #remove any extra spaces at beginning or end\n",
    "    text= text.strip() \n",
    "    \n",
    "    #remove all non-alphanumeric characters\n",
    "    text= re.sub('[\\W_]', ' ', text)\n",
    "    \n",
    "    #remove stop words\n",
    "    stop_words = set(en_stop)\n",
    "    tokens = word_tokenize(text)\n",
    "    tokenized = [w for w in tokens if not w in stop_words]\n",
    "    text = ' '.join(tokenized)\n",
    "    \n",
    "    #remove unhelpful words\n",
    "    unhelpful_words = ['like', 'day', 'time', 'quot', 'day', 'feel', 'today', 'got']\n",
    "    for word in unhelpful_words:\n",
    "        text = text.replace(word, '')\n",
    "    \n",
    "    #apply stemmer\n",
    "    s_stemmer = SnowballStemmer(language='english')\n",
    "    stems=[]\n",
    "    for word in text.split():\n",
    "        stm= s_stemmer.stem(word)\n",
    "        stems.append(stm)\n",
    "        \n",
    "        if len(stems) > 2:\n",
    "            text = ' '.join(stems)\n",
    "    \n",
    "    #shorten double spaces\n",
    "    while '  ' in text:\n",
    "        text= text.replace('  ',' ')\n",
    "    \n",
    "    return text\n"
   ]
  },
  {
   "cell_type": "code",
   "execution_count": 4,
   "id": "b7ac76fc",
   "metadata": {},
   "outputs": [],
   "source": [
    "#Define a function with our evaluation metrics\n",
    "def eval_func(y_test, preds):\n",
    "       \n",
    "    #Print confusion matrix\n",
    "    ConfusionMatrixDisplay.from_predictions(y_test, preds)\n",
    "    \n",
    "    #Print classification report\n",
    "    print(classification_report(y_test, preds))     "
   ]
  },
  {
   "cell_type": "code",
   "execution_count": 5,
   "id": "9a22c241",
   "metadata": {},
   "outputs": [
    {
     "name": "stderr",
     "output_type": "stream",
     "text": [
      "C:\\Users\\karbo\\anaconda3\\lib\\site-packages\\pandas\\core\\frame.py:4906: SettingWithCopyWarning: \n",
      "A value is trying to be set on a copy of a slice from a DataFrame\n",
      "\n",
      "See the caveats in the documentation: https://pandas.pydata.org/pandas-docs/stable/user_guide/indexing.html#returning-a-view-versus-a-copy\n",
      "  return super().drop(\n",
      "C:\\Users\\karbo\\anaconda3\\lib\\site-packages\\pandas\\core\\indexing.py:1667: SettingWithCopyWarning: \n",
      "A value is trying to be set on a copy of a slice from a DataFrame.\n",
      "Try using .loc[row_indexer,col_indexer] = value instead\n",
      "\n",
      "See the caveats in the documentation: https://pandas.pydata.org/pandas-docs/stable/user_guide/indexing.html#returning-a-view-versus-a-copy\n",
      "  self.obj[key] = value\n"
     ]
    }
   ],
   "source": [
    "#Manually create balanced train and imbalanced validation and test data\n",
    "\n",
    "#Divide the df into positive and negative\n",
    "pos = df[df['sentiment']==1]\n",
    "pos=pos.sample(frac=1, random_state=0).reset_index()\n",
    "neg = df[df['sentiment']==0]\n",
    "neg=neg.sample(frac=1, random_state=0).reset_index()\n",
    "\n",
    "#Allot portions of positive and negative tweets for training, validation, and testing \n",
    "train_pos=pos.iloc[0:225000]\n",
    "train_neg=neg.iloc[0:225000]\n",
    "\n",
    "valid_pos = pos.iloc[225000:229000]\n",
    "valid_neg = neg.iloc[225000:231000]\n",
    "\n",
    "test_pos= pos.iloc[229000:231000]\n",
    "test_neg= neg.iloc[231000:234000]\n",
    "\n",
    "#Add some manually labelled tweets from the Steelers game to the data for the machine to learn\n",
    "df = pd.read_pickle(\"game_df_clean.pkl\")\n",
    "df=df.sample(100, random_state=1).reset_index()\n",
    "\n",
    "Steelers_train= df.iloc[0:50]\n",
    "Steelers_valid=df.iloc[50:75]\n",
    "Steelers_test=df.iloc[75:100]\n",
    "Steelers_train.drop(16, axis=0, inplace=True)\n",
    "\n",
    "train_labels=[0,0,1, 0,1,0,1,0,0,1,1,0,0,1,1,1,1,1,1,0,0,1,1,0,1,0,0,1,1,0,0,0,0,1,0,0,1,0,1,0,\n",
    "            1,0,1,0,0,0,0,0,1]\n",
    "Steelers_train.loc[:,'sentiment']=train_labels\n",
    "\n",
    "valid_labels=[0,0,0,0,1,0,0,0,1,1,0,1,0,1,0,0,0,0,0,1,0,0,0,0,1]\n",
    "Steelers_valid.loc[:,'sentiment']=valid_labels\n",
    "\n",
    "test_labels=[1,1,0,1,1,1,1,1,0,0,0,0,1,0,1,0,1,0,0,0,0,0,0,0,1]\n",
    "Steelers_test.loc[:,'sentiment'] = test_labels\n",
    "\n",
    "Steelers_train = Steelers_train.loc[:, ['sentiment', 'original_text']]\n",
    "Steelers_valid = Steelers_valid.loc[:, ['sentiment', 'original_text']]\n",
    "Steelers_test = Steelers_test.loc[:, ['sentiment', 'original_text']]\n",
    "\n",
    "Steelers_train.columns=['sentiment', 'text']\n",
    "Steelers_valid.columns=['sentiment', 'text']\n",
    "Steelers_test.columns=['sentiment', 'text']\n",
    "\n",
    "#Combine to form training, validation, and test sets\n",
    "train_combined=pd.concat([train_pos, train_neg, Steelers_train], ignore_index=True)\n",
    "train_combined=train_combined.sample(frac=1, random_state=0)\n",
    "\n",
    "valid_combined = pd.concat([valid_pos, valid_neg, Steelers_valid], ignore_index=True)\n",
    "valid_combined= valid_combined.sample(frac=1, random_state=0)\n",
    "\n",
    "test_combined = pd.concat([test_pos, test_neg, Steelers_test], ignore_index=True)\n",
    "test_combined=test_combined.sample(frac=1, random_state=0)\n",
    "\n",
    "#Clean the datasets and filter out rows with empty text\n",
    "train_combined['clean_text']=train_combined.text.apply(lambda x: text_cleaner(x))\n",
    "valid_combined['clean_text']=valid_combined.text.apply(lambda x: text_cleaner(x))\n",
    "test_combined['clean_text']=test_combined.text.apply(lambda x: text_cleaner(x))\n",
    "train_combined = train_combined[train_combined['clean_text']!='']\n",
    "valid_combined = valid_combined[valid_combined['clean_text']!='']\n",
    "test_combined = test_combined[test_combined['clean_text']!='']\n",
    "\n",
    "#Make the training, validation, and testing features and labels\n",
    "X_train = train_combined['clean_text']\n",
    "y_train = train_combined['sentiment']\n",
    "X_valid = valid_combined['clean_text']\n",
    "y_valid = valid_combined['sentiment']\n",
    "X_test = test_combined['clean_text']\n",
    "y_test = test_combined['sentiment']\n",
    "\n",
    "#Apply tfidf vectorizer to the features \n",
    "vectorizer=TfidfVectorizer(lowercase=True,\n",
    "                           ngram_range= (1,3),\n",
    "                           stop_words= 'english',\n",
    "                           max_df=.85,\n",
    "                           min_df=10,\n",
    "                           norm='l2',\n",
    "                           smooth_idf=True,\n",
    "                           use_idf=True)\n",
    "\n",
    "vectorizer.fit(X_train)\n",
    "pickle.dump(vectorizer, open('tfidf_vectorizer.sav', 'wb'))\n",
    "X_train_tfidf = vectorizer.transform(X_train)\n",
    "X_valid_tfidf = vectorizer.transform(X_valid)\n",
    "X_test_tfidf = vectorizer.transform(X_test)\n"
   ]
  },
  {
   "cell_type": "markdown",
   "id": "b300cfc2",
   "metadata": {},
   "source": [
    "## 2. Training and Tuning the Model"
   ]
  },
  {
   "cell_type": "code",
   "execution_count": 6,
   "id": "e681f9aa",
   "metadata": {},
   "outputs": [
    {
     "name": "stdout",
     "output_type": "stream",
     "text": [
      "              precision    recall  f1-score   support\n",
      "\n",
      "           0       0.60      1.00      0.75      5983\n",
      "           1       0.00      0.00      0.00      3983\n",
      "\n",
      "    accuracy                           0.60      9966\n",
      "   macro avg       0.30      0.50      0.38      9966\n",
      "weighted avg       0.36      0.60      0.45      9966\n",
      "\n"
     ]
    },
    {
     "name": "stderr",
     "output_type": "stream",
     "text": [
      "C:\\Users\\karbo\\anaconda3\\lib\\site-packages\\sklearn\\metrics\\_classification.py:1318: UndefinedMetricWarning: Precision and F-score are ill-defined and being set to 0.0 in labels with no predicted samples. Use `zero_division` parameter to control this behavior.\n",
      "  _warn_prf(average, modifier, msg_start, len(result))\n",
      "C:\\Users\\karbo\\anaconda3\\lib\\site-packages\\sklearn\\metrics\\_classification.py:1318: UndefinedMetricWarning: Precision and F-score are ill-defined and being set to 0.0 in labels with no predicted samples. Use `zero_division` parameter to control this behavior.\n",
      "  _warn_prf(average, modifier, msg_start, len(result))\n",
      "C:\\Users\\karbo\\anaconda3\\lib\\site-packages\\sklearn\\metrics\\_classification.py:1318: UndefinedMetricWarning: Precision and F-score are ill-defined and being set to 0.0 in labels with no predicted samples. Use `zero_division` parameter to control this behavior.\n",
      "  _warn_prf(average, modifier, msg_start, len(result))\n"
     ]
    },
    {
     "data": {
      "image/png": "[encoded data removed]",
      "text/plain": [
       "<Figure size 432x288 with 2 Axes>"
      ]
     },
     "metadata": {
      "needs_background": "light"
     },
     "output_type": "display_data"
    }
   ],
   "source": [
    "#Baseline Model: Predicting the majority class \n",
    "baseline_shape = y_valid.shape\n",
    "baseline_preds = np.zeros(baseline_shape)\n",
    "eval_func(y_valid, baseline_preds)"
   ]
  },
  {
   "cell_type": "code",
   "execution_count": 7,
   "id": "930f6534",
   "metadata": {},
   "outputs": [
    {
     "name": "stdout",
     "output_type": "stream",
     "text": [
      "              precision    recall  f1-score   support\n",
      "\n",
      "           0       0.84      0.76      0.80      5983\n",
      "           1       0.68      0.78      0.73      3983\n",
      "\n",
      "    accuracy                           0.77      9966\n",
      "   macro avg       0.76      0.77      0.76      9966\n",
      "weighted avg       0.78      0.77      0.77      9966\n",
      "\n"
     ]
    },
    {
     "data": {
      "image/png": "[encoded data removed]",
      "text/plain": [
       "<Figure size 432x288 with 2 Axes>"
      ]
     },
     "metadata": {
      "needs_background": "light"
     },
     "output_type": "display_data"
    }
   ],
   "source": [
    "#Basic Logistic Regression Model\n",
    "log = LogisticRegression(random_state=0, \n",
    "                         max_iter=1000, \n",
    "                         tol=.01)\n",
    "log.fit(X_train_tfidf, y_train)\n",
    "log_preds= log.predict(X_valid_tfidf)\n",
    "eval_func(y_valid, log_preds)"
   ]
  },
  {
   "cell_type": "code",
   "execution_count": 8,
   "id": "5a7a6162",
   "metadata": {},
   "outputs": [
    {
     "name": "stdout",
     "output_type": "stream",
     "text": [
      "Resulting accuracy score: 0.7667068031306442\n",
      "Resulting best paramters:{'C': 1, 'class_weight': 'balanced', 'max_iter': 1000, 'solver': 'liblinear', 'tol': 0.01}\n"
     ]
    }
   ],
   "source": [
    "#Tuning the model using GridSearchCV\n",
    "model = LogisticRegression(random_state=0)\n",
    "param = {\n",
    "    'C': [1,1.1,1.2,1.3,1.4,1.5,1.6],\n",
    "    'class_weight' :[None, 'balanced'],\n",
    "    'max_iter':[1000],\n",
    "    'solver':['liblinear','sag', 'saga', 'lbfgs'],\n",
    "    'tol':[.01]\n",
    "}\n",
    "\n",
    "search = GridSearchCV(model, param, n_jobs=4, cv=10)\n",
    "tuned_log = search.fit(X_train_tfidf,y_train)\n",
    "print(f'Resulting accuracy score: {tuned_log.score(X_valid_tfidf, y_valid)}')\n",
    "print(f'Resulting best paramters:{tuned_log.best_params_}')"
   ]
  },
  {
   "cell_type": "code",
   "execution_count": 9,
   "id": "85511e94",
   "metadata": {
    "scrolled": true
   },
   "outputs": [
    {
     "name": "stdout",
     "output_type": "stream",
     "text": [
      "\n",
      "******** For i = 0.05 ******\n",
      "Accuracy score is 0.47902869757174393\n",
      "[[ 819 5164]\n",
      " [  28 3955]]\n",
      "\n",
      "******** For i = 0.1 ******\n",
      "Accuracy score is 0.551475015051174\n",
      "[[1576 4407]\n",
      " [  63 3920]]\n",
      "\n",
      "******** For i = 0.15 ******\n",
      "Accuracy score is 0.5976319486253261\n",
      "[[2095 3888]\n",
      " [ 122 3861]]\n",
      "\n",
      "******** For i = 0.2 ******\n",
      "Accuracy score is 0.6362632952036925\n",
      "[[2561 3422]\n",
      " [ 203 3780]]\n",
      "\n",
      "******** For i = 0.25 ******\n",
      "Accuracy score is 0.6689745133453743\n",
      "[[2964 3019]\n",
      " [ 280 3703]]\n",
      "\n",
      "******** For i = 0.3 ******\n",
      "Accuracy score is 0.6965683323299218\n",
      "[[3334 2649]\n",
      " [ 375 3608]]\n",
      "\n",
      "******** For i = 0.35 ******\n",
      "Accuracy score is 0.7224563515954244\n",
      "[[3678 2305]\n",
      " [ 461 3522]]\n",
      "\n",
      "******** For i = 0.4 ******\n",
      "Accuracy score is 0.7433273128637367\n",
      "[[3991 1992]\n",
      " [ 566 3417]]\n",
      "\n",
      "******** For i = 0.45 ******\n",
      "Accuracy score is 0.7569737106160948\n",
      "[[4265 1718]\n",
      " [ 704 3279]]\n",
      "\n",
      "******** For i = 0.5 ******\n",
      "Accuracy score is 0.7667068031306442\n",
      "[[4525 1458]\n",
      " [ 867 3116]]\n",
      "\n",
      "******** For i = 0.55 ******\n",
      "Accuracy score is 0.7753361428858118\n",
      "[[4798 1185]\n",
      " [1054 2929]]\n",
      "\n",
      "******** For i = 0.6 ******\n",
      "Accuracy score is 0.7775436484045756\n",
      "[[5103  880]\n",
      " [1337 2646]]\n",
      "\n",
      "******** For i = 0.65 ******\n",
      "Accuracy score is 0.7776439895645194\n",
      "[[5332  651]\n",
      " [1565 2418]]\n",
      "\n",
      "******** For i = 0.7 ******\n",
      "Accuracy score is 0.7678105558900261\n",
      "[[5506  477]\n",
      " [1837 2146]]\n",
      "\n",
      "******** For i = 0.75 ******\n",
      "Accuracy score is 0.7505518763796909\n",
      "[[5636  347]\n",
      " [2139 1844]]\n",
      "\n",
      "******** For i = 0.8 ******\n",
      "Accuracy score is 0.730583985550873\n",
      "[[5765  218]\n",
      " [2467 1516]]\n",
      "\n",
      "******** For i = 0.85 ******\n",
      "Accuracy score is 0.705900060204696\n",
      "[[5871  112]\n",
      " [2819 1164]]\n",
      "\n",
      "******** For i = 0.9 ******\n",
      "Accuracy score is 0.6728878185831828\n",
      "[[5942   41]\n",
      " [3219  764]]\n",
      "\n",
      "******** For i = 0.95 ******\n",
      "Accuracy score is 0.6327513546056592\n",
      "[[5972   11]\n",
      " [3649  334]]\n"
     ]
    }
   ],
   "source": [
    "#Honing in on the optimal decision threshold\n",
    "tuned_log=LogisticRegression(random_state=0,\n",
    "                             C=1, \n",
    "                             class_weight='balanced', \n",
    "                             max_iter=1000, \n",
    "                             solver='liblinear', \n",
    "                             tol=.01)\n",
    "tuned_log.fit(X_train_tfidf, y_train)\n",
    "pred_proba_df = pd.DataFrame(tuned_log.predict_proba(X_valid_tfidf))\n",
    "threshold_list = [.05,.1,.15,.2,.25,.3,.35,.4,.45,.5,.55,.6,.65,.7,.75,.8,.85,.9,.95]\n",
    "for i in threshold_list:\n",
    "    print ('\\n******** For i = {} ******'.format(i))\n",
    "    y_valid_pred = pred_proba_df.applymap(lambda x: 1 if x>i else 0)\n",
    "    valid_accuracy = accuracy_score(y_valid.to_numpy().reshape(y_valid.to_numpy().size,1),\n",
    "                                           y_valid_pred.iloc[:,1].to_numpy().reshape(y_valid_pred.iloc[:,1].to_numpy().size,1))\n",
    "    print('Accuracy score is {}'.format(valid_accuracy))\n",
    "\n",
    "    print(confusion_matrix(y_valid.to_numpy().reshape(y_valid.to_numpy().size,1),\n",
    "                           y_valid_pred.iloc[:,1].to_numpy().reshape(y_valid_pred.iloc[:,1].to_numpy().size,1)))"
   ]
  },
  {
   "cell_type": "code",
   "execution_count": 10,
   "id": "0aca1c9a",
   "metadata": {},
   "outputs": [
    {
     "name": "stdout",
     "output_type": "stream",
     "text": [
      "\n",
      "******** For i = 0.55 ******\n",
      "Accuracy score is 0.7753361428858118\n",
      "[[4798 1185]\n",
      " [1054 2929]]\n",
      "\n",
      "******** For i = 0.56 ******\n",
      "Accuracy score is 0.7753361428858118\n",
      "[[4844 1139]\n",
      " [1100 2883]]\n",
      "\n",
      "******** For i = 0.57 ******\n",
      "Accuracy score is 0.7789484246437889\n",
      "[[4975 1008]\n",
      " [1195 2788]]\n",
      "\n",
      "******** For i = 0.58 ******\n",
      "Accuracy score is 0.7783463776841261\n",
      "[[5012  971]\n",
      " [1238 2745]]\n",
      "\n",
      "******** For i = 0.59 ******\n",
      "Accuracy score is 0.7765402368051375\n",
      "[[5051  932]\n",
      " [1295 2688]]\n",
      "\n",
      "******** For i = 0.6 ******\n",
      "Accuracy score is 0.7775436484045756\n",
      "[[5103  880]\n",
      " [1337 2646]]\n",
      "\n",
      "******** For i = 0.61 ******\n",
      "Accuracy score is 0.7777443307244631\n",
      "[[5148  835]\n",
      " [1380 2603]]\n",
      "\n",
      "******** For i = 0.62 ******\n",
      "Accuracy score is 0.7786474011639575\n",
      "[[5209  774]\n",
      " [1432 2551]]\n",
      "\n",
      "******** For i = 0.63 ******\n",
      "Accuracy score is 0.7797511539233394\n",
      "[[5260  723]\n",
      " [1472 2511]]\n",
      "\n",
      "******** For i = 0.64 ******\n",
      "Accuracy score is 0.7769416014449128\n",
      "[[5293  690]\n",
      " [1533 2450]]\n",
      "\n",
      "******** For i = 0.65 ******\n",
      "Accuracy score is 0.7776439895645194\n",
      "[[5332  651]\n",
      " [1565 2418]]\n"
     ]
    }
   ],
   "source": [
    "#Further honing in on the optimal decision threshold \n",
    "pred_proba_df = pd.DataFrame(tuned_log.predict_proba(X_valid_tfidf))\n",
    "threshold_list = [.55,.56,.57,.58,.59,.6, .61,.62,.63,.64,.65]\n",
    "for i in threshold_list:\n",
    "    print ('\\n******** For i = {} ******'.format(i))\n",
    "    y_valid_pred = pred_proba_df.applymap(lambda x: 1 if x>i else 0)\n",
    "    valid_accuracy = accuracy_score(y_valid.to_numpy().reshape(y_valid.to_numpy().size,1),\n",
    "                                           y_valid_pred.iloc[:,1].to_numpy().reshape(y_valid_pred.iloc[:,1].to_numpy().size,1))\n",
    "    print('Accuracy score is {}'.format(valid_accuracy))\n",
    "\n",
    "    print(confusion_matrix(y_valid.to_numpy().reshape(y_valid.to_numpy().size,1),\n",
    "                           y_valid_pred.iloc[:,1].to_numpy().reshape(y_valid_pred.iloc[:,1].to_numpy().size,1)))"
   ]
  },
  {
   "cell_type": "code",
   "execution_count": 11,
   "id": "5ea7913e",
   "metadata": {},
   "outputs": [
    {
     "name": "stdout",
     "output_type": "stream",
     "text": [
      "              precision    recall  f1-score   support\n",
      "\n",
      "           0       0.81      0.83      0.82      5983\n",
      "           1       0.73      0.70      0.72      3983\n",
      "\n",
      "    accuracy                           0.78      9966\n",
      "   macro avg       0.77      0.77      0.77      9966\n",
      "weighted avg       0.78      0.78      0.78      9966\n",
      "\n"
     ]
    },
    {
     "data": {
      "image/png": "[encoded data removed]",
      "text/plain": [
       "<Figure size 432x288 with 2 Axes>"
      ]
     },
     "metadata": {
      "needs_background": "light"
     },
     "output_type": "display_data"
    }
   ],
   "source": [
    "threshold = .57\n",
    "pred_probs = tuned_log.predict_proba(X_valid_tfidf)[:,1]\n",
    "#probs of being 1(pos)\n",
    "preds=[1 if i > threshold else 0 for i in pred_probs]\n",
    "eval_func(y_valid, preds)"
   ]
  },
  {
   "cell_type": "code",
   "execution_count": 12,
   "id": "6aabb6a6",
   "metadata": {},
   "outputs": [
    {
     "name": "stdout",
     "output_type": "stream",
     "text": [
      "              precision    recall  f1-score   support\n",
      "\n",
      "           0       0.81      0.82      0.82      2998\n",
      "           1       0.73      0.72      0.72      2002\n",
      "\n",
      "    accuracy                           0.78      5000\n",
      "   macro avg       0.77      0.77      0.77      5000\n",
      "weighted avg       0.78      0.78      0.78      5000\n",
      "\n"
     ]
    },
    {
     "data": {
      "image/png": "[encoded data removed]",
      "text/plain": [
       "<Figure size 432x288 with 2 Axes>"
      ]
     },
     "metadata": {
      "needs_background": "light"
     },
     "output_type": "display_data"
    }
   ],
   "source": [
    "#Evaluate model on the test set\n",
    "threshold = .57\n",
    "test_pred_probs = tuned_log.predict_proba(X_test_tfidf)[:,1]\n",
    "#probs of being 1(pos)\n",
    "preds=[1 if i > threshold else 0 for i in test_pred_probs]\n",
    "eval_func(y_test, preds)"
   ]
  },
  {
   "cell_type": "code",
   "execution_count": 13,
   "id": "cdc9436e",
   "metadata": {},
   "outputs": [],
   "source": [
    "#Pickle the model\n",
    "pickle.dump(tuned_log, open('tuned_log_model.sav', 'wb'))\n"
   ]
  },
  {
   "cell_type": "markdown",
   "id": "971923f1",
   "metadata": {},
   "source": [
    "## Limitations and Moving Forward\n",
    "-The validation and test data were imbalanced, and so it is not surprising that the model performed a little better on the majority class.  \n",
    "-As I verified when manually labeling some of the Steelers tweets, some of the tweets contained sarcasm, which is difficult for the algorithm to learn. \n",
    "-Also, at least when labeling the Steelers tweets, I labelled any of the tweets as positive if they were neutral/purely factual. It would have been better to include a third class for purely neutral tweets, but the kaggle data set did not contain any actual neutrally labelled tweets. \n",
    "-Also, I tried to make the training data as representative as possible, both by using Twitter data (so the algorithm could become accustomed to the lingo/turns of phrase) and by supplementing with some labelled Steelers tweets. But it remains possible that the Steelers tweets contain football peculiarities not picked up by the machine. \n",
    "-As always, further text cleaning/preprocessing and tuning of the model is possible. In particular, I would have liked to see how the algorithms handled lemmatized data, but lemmatizing took too long.\n",
    "-Future iterations of this project might, for example, use cloud computing to lemmatize the data and train a deep learning model for sentiment analysis. "
   ]
  },
  {
   "cell_type": "code",
   "execution_count": null,
   "id": "358bd261",
   "metadata": {},
   "outputs": [],
   "source": []
  }
 ],
 "metadata": {
  "kernelspec": {
   "display_name": "Python 3 (ipykernel)",
   "language": "python",
   "name": "python3"
  },
  "language_info": {
   "codemirror_mode": {
    "name": "ipython",
    "version": 3
   },
   "file_extension": ".py",
   "mimetype": "text/x-python",
   "name": "python",
   "nbconvert_exporter": "python",
   "pygments_lexer": "ipython3",
   "version": "3.9.7"
  }
 },
 "nbformat": 4,
 "nbformat_minor": 5
}
